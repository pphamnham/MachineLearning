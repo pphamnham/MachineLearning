{
 "cells": [
  {
   "cell_type": "markdown",
   "metadata": {},
   "source": [
    "Our dataset is the covtype dataset.\n",
    "\n",
    "This is the link to download the daset: https://archive.ics.uci.edu/ml/machine-learning-databases/covtype/\n",
    "\n",
    "Overall description:\n",
    "- m X n = 581,012 X 55\n",
    "Key features including: Elevation, Aspect, Slope etc.\n",
    "The last column is the cover_type classification from 1 to 7.\n"
   ]
  },
  {
   "cell_type": "markdown",
   "metadata": {},
   "source": [
    "#1. Import the input_path fot the dataset as csv file and necessary library"
   ]
  },
  {
   "cell_type": "code",
   "execution_count": 1,
   "metadata": {
    "collapsed": false
   },
   "outputs": [
    {
     "name": "stderr",
     "output_type": "stream",
     "text": [
      "/Users/phupham/anaconda/lib/python3.6/site-packages/sklearn/cross_validation.py:44: DeprecationWarning: This module was deprecated in version 0.18 in favor of the model_selection module into which all the refactored classes and functions are moved. Also note that the interface of the new CV iterators are different from that of this module. This module will be removed in 0.20.\n",
      "  \"This module will be removed in 0.20.\", DeprecationWarning)\n"
     ]
    }
   ],
   "source": [
    "import os\n",
    "import time\n",
    "#Please fill in the input folder path and the output folder path\n",
    "input_path = '/Users/phupham/Desktop/UniSyd/Semester3/MachineLearning/Assignment2/covtype.csv'\n",
    "import pandas as pd\n",
    "import numpy as np\n",
    "import matplotlib.pylab as plt\n",
    "%matplotlib inline\n",
    "from sklearn.cross_validation import train_test_split\n",
    "from sklearn.model_selection import StratifiedKFold\n",
    "from sklearn.metrics import accuracy_score\n",
    "from sklearn.decomposition import PCA\n",
    "from sklearn.feature_selection import VarianceThreshold\n",
    "from sklearn import metrics\n",
    "import itertools\n",
    "from sklearn.preprocessing import StandardScaler\n",
    "from sklearn.linear_model import SGDClassifier\n",
    "\n",
    "from sklearn.cross_validation import cross_val_score\n",
    "from sklearn.multiclass import OneVsRestClassifier\n",
    "from sklearn.metrics import roc_curve, auc\n",
    "from sklearn.preprocessing import label_binarize\n"
   ]
  },
  {
   "cell_type": "markdown",
   "metadata": {},
   "source": [
    "#2. Read the value into attr_value for X and cat for Y and preliminary visualization of the data\n"
   ]
  },
  {
   "cell_type": "code",
   "execution_count": 2,
   "metadata": {
    "collapsed": false
   },
   "outputs": [
    {
     "data": {
      "text/plain": [
       "(581012, 55)"
      ]
     },
     "execution_count": 2,
     "metadata": {},
     "output_type": "execute_result"
    }
   ],
   "source": [
    "df = pd.read_csv(input_path,header = None )\n",
    "attr_value = df.iloc[:,0:53].values\n",
    "cat = df[54].values"
   ]
  },
  {
   "cell_type": "markdown",
   "metadata": {},
   "source": [
    "#3. Split the data 80% for training and 20% for testing and Preprocessing"
   ]
  },
  {
   "cell_type": "code",
   "execution_count": 4,
   "metadata": {
    "collapsed": false
   },
   "outputs": [],
   "source": [
    "Trainset,Testset,Trainset_cat, Testset_cat = train_test_split(attr_value, cat,test_size=0.2, random_state=0)"
   ]
  },
  {
   "cell_type": "code",
   "execution_count": 5,
   "metadata": {
    "collapsed": true
   },
   "outputs": [],
   "source": [
    "# Small data set for preprocessing test\n",
    "X_train, X_test, y_train, y_test = train_test_split(Trainset, Trainset_cat, test_size=0.5, random_state=0)"
   ]
  },
  {
   "cell_type": "code",
   "execution_count": 29,
   "metadata": {
    "collapsed": false
   },
   "outputs": [
    {
     "name": "stderr",
     "output_type": "stream",
     "text": [
      "/Users/phupham/anaconda/lib/python3.6/site-packages/sklearn/utils/validation.py:429: DataConversionWarning: Data with input dtype int64 was converted to float64 by StandardScaler.\n",
      "  warnings.warn(msg, _DataConversionWarning)\n"
     ]
    }
   ],
   "source": [
    "'''\n",
    "#Apply standard scaler\n",
    "scaler = StandardScaler()\n",
    "scaler.fit(X_train)  \n",
    "scaler.fit(X_test)\n",
    "X_train_scale = scaler.transform(X_train)\n",
    "X_test_scale = scaler.transform(X_test)\n",
    "'''"
   ]
  },
  {
   "cell_type": "code",
   "execution_count": null,
   "metadata": {
    "collapsed": true
   },
   "outputs": [],
   "source": [
    "#3A. Preprocessing with PCA"
   ]
  },
  {
   "cell_type": "code",
   "execution_count": 11,
   "metadata": {
    "collapsed": false
   },
   "outputs": [
    {
     "name": "stdout",
     "output_type": "stream",
     "text": [
      "Processing time is 0.5626749992370605 seconds\n",
      "0.61269766141\n"
     ]
    }
   ],
   "source": [
    "'''\n",
    "pca = PCA(n_components=10)\n",
    "newtraining = pca.fit_transform(X_train_scale)\n",
    "newtest = pca.transform(X_test_scale)\n",
    "start_time = time.time()\n",
    "sgd = SGDClassifier(loss=\"log\",n_iter=1, class_weight = \"balanced\", average= True)\n",
    "sgd.fit(newtraining,y_train)\n",
    "pred = sgd.predict(newtest)\n",
    "print(\"Processing time is %s seconds\" % (time.time() - start_time))\n",
    "a = accuracy_score(y_test, pred)\n",
    "print(a)\n",
    "'''"
   ]
  },
  {
   "cell_type": "code",
   "execution_count": null,
   "metadata": {
    "collapsed": true
   },
   "outputs": [],
   "source": [
    "#3B. Preprocessing with Variance Feature Selection"
   ]
  },
  {
   "cell_type": "code",
   "execution_count": 26,
   "metadata": {
    "collapsed": false
   },
   "outputs": [
    {
     "name": "stdout",
     "output_type": "stream",
     "text": [
      "Processing time is 1.0449528694152832 seconds\n",
      "0.656754372754\n"
     ]
    }
   ],
   "source": [
    "'''\n",
    "selector = VarianceThreshold(threshold = 0.5)\n",
    "newtraining = selector.fit_transform(X_train_scale)\n",
    "newtest = selector.fit_transform(X_test_scale)\n",
    "start_time = time.time()\n",
    "sgd = SGDClassifier(loss=\"log\",n_iter=1, class_weight = \"balanced\", average= True)\n",
    "sgd.fit(newtraining,y_train)\n",
    "pred = sgd.predict(newtest)\n",
    "print(\"Processing time is %s seconds\" % (time.time() - start_time))\n",
    "a = accuracy_score(y_test, pred)\n",
    "print(a)\n",
    "'''"
   ]
  },
  {
   "cell_type": "markdown",
   "metadata": {},
   "source": [
    "GIVEN VARIANCE FEATURE SELECTION PROVIDES BETTER ACCURACY RATE,APPLY VARIANCE FEATURE SELECTION AS CONSISTENT WITH OTHER METHODS"
   ]
  },
  {
   "cell_type": "code",
   "execution_count": null,
   "metadata": {
    "collapsed": true
   },
   "outputs": [],
   "source": [
    "#4. 10fold-Cross-validation and apply KNN"
   ]
  },
  {
   "cell_type": "code",
   "execution_count": 8,
   "metadata": {
    "collapsed": false
   },
   "outputs": [
    {
     "name": "stdout",
     "output_type": "stream",
     "text": [
      "Processing time is 1.9189131259918213 seconds\n",
      "Accuracy for 0 fold is 0.71624 \n",
      "Processing time is 1.665403127670288 seconds\n",
      "Accuracy for 1 fold is 0.71648 \n",
      "Processing time is 2.333458185195923 seconds\n",
      "Accuracy for 2 fold is 0.71817 \n",
      "Processing time is 1.6551947593688965 seconds\n",
      "Accuracy for 3 fold is 0.71284 \n",
      "Processing time is 1.9045839309692383 seconds\n",
      "Accuracy for 4 fold is 0.71260 \n",
      "Processing time is 2.385756254196167 seconds\n",
      "Accuracy for 5 fold is 0.71212 \n",
      "Processing time is 1.7174830436706543 seconds\n",
      "Accuracy for 6 fold is 0.71804 \n",
      "Processing time is 1.9426169395446777 seconds\n",
      "Accuracy for 7 fold is 0.71375 \n",
      "Processing time is 1.8060128688812256 seconds\n",
      "Accuracy for 8 fold is 0.71612 \n",
      "Processing time is 1.5906519889831543 seconds\n",
      "Accuracy for 9 fold is 0.72033 \n"
     ]
    }
   ],
   "source": [
    "#Cross Validation\n",
    "skf = StratifiedKFold(n_splits=10)\n",
    "skf.get_n_splits(Trainset,Trainset_cat)\n",
    "print(skf)\n",
    "\n",
    "#Standard Scaler\n",
    "scaler = StandardScaler()\n",
    "scaler.fit(Trainset)  \n",
    "scaler.fit(Testset)\n",
    "X_train_scale = scaler.transform(Trainset)\n",
    "X_test_scale = scaler.transform(Testset)\n",
    "\n",
    "#Variance Feature Selection\n",
    "selector = VarianceThreshold(threshold = 0.1)\n",
    "newtraining = selector.fit_transform(X_train_scale)\n",
    "newtest = selector.fit_transform(X_test_scale)\n",
    "\n",
    "n=0\n",
    "acc=[]\n",
    "process=[]\n",
    "\n",
    "for train_index,test_index in skf.split(newtraining,Trainset_cat):\n",
    "    X_train, X_test = newtraining[train_index], newtraining[test_index]\n",
    "    y_train, y_test = Trainset_cat[train_index], Trainset_cat[test_index]\n",
    "    start_time = time.time()\n",
    "    sgd = SGDClassifier(loss=\"log\",n_iter=1, class_weight = None, average= True)\n",
    "    sgd.fit(X_train,y_train)\n",
    "    pred = sgd.predict(X_test)\n",
    "    t = time.time() - start_time\n",
    "    print(\"Processing time is %s seconds\" % t)\n",
    "    a = accuracy_score(y_test, pred)\n",
    "    print(\"Accuracy for %d fold is %0.5f \"%(n, a))\n",
    "    n= n+1\n",
    "    acc.append(a)\n",
    "    process.append(t)\n",
    "    "
   ]
  },
  {
   "cell_type": "code",
   "execution_count": 9,
   "metadata": {
    "collapsed": false
   },
   "outputs": [
    {
     "data": {
      "text/plain": [
       "<matplotlib.legend.Legend at 0x10af8bd30>"
      ]
     },
     "execution_count": 9,
     "metadata": {},
     "output_type": "execute_result"
    },
    {
     "data": {
      "image/png": "[encoded data removed]",
      "text/plain": [
       "<matplotlib.figure.Figure at 0x105d3a940>"
      ]
     },
     "metadata": {},
     "output_type": "display_data"
    }
   ],
   "source": [
    "'''\n",
    "fig1 =plt.figure()\n",
    "ax1 = fig1.add_subplot(111)\n",
    "\n",
    "line1 = ax1.plot(acc, 'r',label = \"accuracy_rate\",linewidth = 2,  )\n",
    "ax1.set_ylabel(\"Accurate rate\")\n",
    "\n",
    "ax2 =fig1.add_subplot(111, sharex=ax1, frameon=False)\n",
    "line2 = ax2.plot(process, 'c--', label = \"processing_time\", linewidth = 2, linestyle = '--' )\n",
    "ax2.yaxis.tick_right()\n",
    "ax2.yaxis.set_label_position(\"right\")\n",
    "ax2.set_ylabel(\"Processing time\")\n",
    "ax1.set_xlabel(\"Cross validation time nth\")\n",
    "#legend((line1, line2), (\"accuracy_rate\", \"processing_time\"))\n",
    "#show()\n",
    "\n",
    "ax1.legend(loc=0)\n",
    "'''"
   ]
  },
  {
   "cell_type": "markdown",
   "metadata": {},
   "source": [
    "#5. Apply the model to the Testset"
   ]
  },
  {
   "cell_type": "code",
   "execution_count": 10,
   "metadata": {
    "collapsed": false
   },
   "outputs": [
    {
     "name": "stdout",
     "output_type": "stream",
     "text": [
      "0.715816287015\n"
     ]
    }
   ],
   "source": [
    "sgd.fit(newtraining, Trainset_cat)\n",
    "pred = sgd.predict(newtest)\n",
    "a = accuracy_score(Testset_cat, pred)\n",
    "print(a)\n"
   ]
  },
  {
   "cell_type": "code",
   "execution_count": 11,
   "metadata": {
    "collapsed": false
   },
   "outputs": [
    {
     "name": "stdout",
     "output_type": "stream",
     "text": [
      "             precision    recall  f1-score   support\n",
      "\n",
      "          1       0.70      0.70      0.70     42212\n",
      "          2       0.75      0.79      0.77     56849\n",
      "          3       0.62      0.87      0.73      7094\n",
      "          4       0.71      0.17      0.27       569\n",
      "          5       0.17      0.03      0.05      1886\n",
      "          6       0.43      0.08      0.14      3502\n",
      "          7       0.74      0.53      0.62      4091\n",
      "\n",
      "avg / total       0.70      0.72      0.70    116203\n",
      "\n"
     ]
    }
   ],
   "source": [
    "report = metrics.classification_report(Testset_cat,pred)\n",
    "print(report)"
   ]
  },
  {
   "cell_type": "code",
   "execution_count": 12,
   "metadata": {
    "collapsed": false
   },
   "outputs": [
    {
     "data": {
      "text/html": [
       "<div>\n",
       "<table border=\"1\" class=\"dataframe\">\n",
       "  <thead>\n",
       "    <tr style=\"text-align: right;\">\n",
       "      <th>Predicted</th>\n",
       "      <th>1</th>\n",
       "      <th>2</th>\n",
       "      <th>3</th>\n",
       "      <th>4</th>\n",
       "      <th>5</th>\n",
       "      <th>6</th>\n",
       "      <th>7</th>\n",
       "      <th>All</th>\n",
       "    </tr>\n",
       "    <tr>\n",
       "      <th>True</th>\n",
       "      <th></th>\n",
       "      <th></th>\n",
       "      <th></th>\n",
       "      <th></th>\n",
       "      <th></th>\n",
       "      <th></th>\n",
       "      <th></th>\n",
       "      <th></th>\n",
       "    </tr>\n",
       "  </thead>\n",
       "  <tbody>\n",
       "    <tr>\n",
       "      <th>1</th>\n",
       "      <td>29676</td>\n",
       "      <td>11778</td>\n",
       "      <td>23</td>\n",
       "      <td>0</td>\n",
       "      <td>21</td>\n",
       "      <td>4</td>\n",
       "      <td>710</td>\n",
       "      <td>42212</td>\n",
       "    </tr>\n",
       "    <tr>\n",
       "      <th>2</th>\n",
       "      <td>10681</td>\n",
       "      <td>44703</td>\n",
       "      <td>1178</td>\n",
       "      <td>0</td>\n",
       "      <td>130</td>\n",
       "      <td>121</td>\n",
       "      <td>36</td>\n",
       "      <td>56849</td>\n",
       "    </tr>\n",
       "    <tr>\n",
       "      <th>3</th>\n",
       "      <td>1</td>\n",
       "      <td>644</td>\n",
       "      <td>6207</td>\n",
       "      <td>32</td>\n",
       "      <td>33</td>\n",
       "      <td>177</td>\n",
       "      <td>0</td>\n",
       "      <td>7094</td>\n",
       "    </tr>\n",
       "    <tr>\n",
       "      <th>4</th>\n",
       "      <td>0</td>\n",
       "      <td>2</td>\n",
       "      <td>400</td>\n",
       "      <td>95</td>\n",
       "      <td>0</td>\n",
       "      <td>72</td>\n",
       "      <td>0</td>\n",
       "      <td>569</td>\n",
       "    </tr>\n",
       "    <tr>\n",
       "      <th>5</th>\n",
       "      <td>45</td>\n",
       "      <td>1629</td>\n",
       "      <td>153</td>\n",
       "      <td>0</td>\n",
       "      <td>57</td>\n",
       "      <td>2</td>\n",
       "      <td>0</td>\n",
       "      <td>1886</td>\n",
       "    </tr>\n",
       "    <tr>\n",
       "      <th>6</th>\n",
       "      <td>0</td>\n",
       "      <td>1141</td>\n",
       "      <td>1981</td>\n",
       "      <td>6</td>\n",
       "      <td>90</td>\n",
       "      <td>284</td>\n",
       "      <td>0</td>\n",
       "      <td>3502</td>\n",
       "    </tr>\n",
       "    <tr>\n",
       "      <th>7</th>\n",
       "      <td>1892</td>\n",
       "      <td>18</td>\n",
       "      <td>23</td>\n",
       "      <td>0</td>\n",
       "      <td>0</td>\n",
       "      <td>0</td>\n",
       "      <td>2158</td>\n",
       "      <td>4091</td>\n",
       "    </tr>\n",
       "    <tr>\n",
       "      <th>All</th>\n",
       "      <td>42295</td>\n",
       "      <td>59915</td>\n",
       "      <td>9965</td>\n",
       "      <td>133</td>\n",
       "      <td>331</td>\n",
       "      <td>660</td>\n",
       "      <td>2904</td>\n",
       "      <td>116203</td>\n",
       "    </tr>\n",
       "  </tbody>\n",
       "</table>\n",
       "</div>"
      ],
      "text/plain": [
       "Predicted      1      2     3    4    5    6     7     All\n",
       "True                                                      \n",
       "1          29676  11778    23    0   21    4   710   42212\n",
       "2          10681  44703  1178    0  130  121    36   56849\n",
       "3              1    644  6207   32   33  177     0    7094\n",
       "4              0      2   400   95    0   72     0     569\n",
       "5             45   1629   153    0   57    2     0    1886\n",
       "6              0   1141  1981    6   90  284     0    3502\n",
       "7           1892     18    23    0    0    0  2158    4091\n",
       "All        42295  59915  9965  133  331  660  2904  116203"
      ]
     },
     "execution_count": 12,
     "metadata": {},
     "output_type": "execute_result"
    }
   ],
   "source": [
    "#Table of the confusion matrix\n",
    "y_true = pd.Series(Testset_cat)\n",
    "y_pred = pd.Series(pred)\n",
    "\n",
    "pd.crosstab(y_true, y_pred, rownames=['True'], colnames=['Predicted'], margins=True)"
   ]
  },
  {
   "cell_type": "code",
   "execution_count": 14,
   "metadata": {
    "collapsed": false
   },
   "outputs": [
    {
     "data": {
      "image/png": "[encoded data removed]",
      "text/plain": [
       "<matplotlib.figure.Figure at 0x11121ecc0>"
      ]
     },
     "metadata": {},
     "output_type": "display_data"
    }
   ],
   "source": [
    "'''\n",
    "confusion = metrics.confusion_matrix(Testset_cat,pred)\n",
    "target_name = ['1','2','3','4','5','6','7']\n",
    "def plot_cmatrix(cm,classes,title= 'Confusion matrix for Covtype',cmap=plt.cm.Blues):\n",
    "    plt.imshow(cm, interpolation='nearest', cmap=cmap)\n",
    "    plt.title(title)\n",
    "    plt.colorbar()\n",
    "    tick_marks = np.arange(len(classes))\n",
    "    plt.xticks(tick_marks, classes, rotation=45)\n",
    "    plt.yticks(tick_marks, classes)\n",
    "    \n",
    "    thresh = cm.max() / 2\n",
    "    for i, j in itertools.product(range(cm.shape[0]), range(cm.shape[1])):\n",
    "        plt.text(j, i, cm[i, j],\n",
    "                 horizontalalignment=\"center\",\n",
    "                 color=\"white\" if cm[i, j] > thresh else \"black\")\n",
    "\n",
    "    plt.tight_layout()\n",
    "    plt.ylabel('True label')\n",
    "    plt.xlabel('Predicted label')\n",
    "    \n",
    "np.set_printoptions(precision=2)\n",
    "plt.figure(figsize=(10, 5))\n",
    "plot_cmatrix(confusion, classes=target_name,title='Confusion matrix for LR')\n",
    "plt.show()\n",
    "'''\n",
    "    "
   ]
  },
  {
   "cell_type": "code",
   "execution_count": 15,
   "metadata": {
    "collapsed": false
   },
   "outputs": [],
   "source": [
    "'''\n",
    "#Only run this for ROC curve\n",
    "classifier = OneVsRestClassifier(sgd)\n",
    "predicted_prob = classifier.fit(newtraining, Trainset_cat).predict_proba(newtest)\n",
    "'''"
   ]
  },
  {
   "cell_type": "code",
   "execution_count": 17,
   "metadata": {
    "collapsed": false
   },
   "outputs": [
    {
     "data": {
      "image/png": "[encoded data removed]",
      "text/plain": [
       "<matplotlib.figure.Figure at 0x11058b198>"
      ]
     },
     "metadata": {},
     "output_type": "display_data"
    }
   ],
   "source": [
    "'''\n",
    "accurate_y = label_binarize(Testset_cat, classes=[1,2,3,4,5,6,7])\n",
    "n_classes = accurate_y.shape[1]\n",
    "# Compute ROC curve and ROC area for each class\n",
    "fpr = dict()\n",
    "tpr = dict()\n",
    "roc_auc = dict()\n",
    "for i in range (n_classes):\n",
    "    fpr[i], tpr[i], _ = roc_curve(accurate_y[:,i], predicted_prob[:, i])\n",
    "    roc_auc[i] = auc(fpr[i], tpr[i])\n",
    "\n",
    "lw=1\n",
    "for i in range(n_classes):\n",
    "    plt.plot(fpr[i], tpr[i], lw=lw,\n",
    "             label='ROC curve of class {0} (area = {1:0.2f})'\n",
    "             ''.format(i+1, roc_auc[i]))\n",
    "\n",
    "plt.plot([0, 1], [0, 1], 'k--', lw=lw)\n",
    "plt.xlim([0.0, 1.0])\n",
    "plt.ylim([0.0, 1.05])\n",
    "plt.xlabel('False Positive Rate')\n",
    "plt.ylabel('True Positive Rate')\n",
    "plt.title('ROC Curve for LR')\n",
    "plt.legend(loc=\"lower right\")\n",
    "plt.show()\n",
    "'''"
   ]
  }
 ],
 "metadata": {
  "anaconda-cloud": {},
  "kernelspec": {
   "display_name": "Python 3",
   "language": "python",
   "name": "python3"
  },
  "language_info": {
   "codemirror_mode": {
    "name": "ipython",
    "version": 3
   },
   "file_extension": ".py",
   "mimetype": "text/x-python",
   "name": "python",
   "nbconvert_exporter": "python",
   "pygments_lexer": "ipython3",
   "version": "3.6.0"
  }
 },
 "nbformat": 4,
 "nbformat_minor": 1
}
