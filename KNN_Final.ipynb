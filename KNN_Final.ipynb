{
 "cells": [
  {
   "cell_type": "markdown",
   "metadata": {},
   "source": [
    "Our dataset is the covtype dataset.\n",
    "\n",
    "This is the link to download the daset: https://archive.ics.uci.edu/ml/machine-learning-databases/covtype/\n",
    "\n",
    "Overall description:\n",
    "- m X n = 581,012 X 55\n",
    "Key features including: Elevation, Aspect, Slope etc.\n",
    "The last column is the cover_type classification from 1 to 7.\n"
   ]
  },
  {
   "cell_type": "markdown",
   "metadata": {},
   "source": [
    "#1. Import the input_path fot the dataset as csv file and necessary library"
   ]
  },
  {
   "cell_type": "code",
   "execution_count": 1,
   "metadata": {
    "collapsed": false
   },
   "outputs": [
    {
     "name": "stderr",
     "output_type": "stream",
     "text": [
      "/Users/phupham/anaconda/lib/python3.6/site-packages/sklearn/cross_validation.py:44: DeprecationWarning: This module was deprecated in version 0.18 in favor of the model_selection module into which all the refactored classes and functions are moved. Also note that the interface of the new CV iterators are different from that of this module. This module will be removed in 0.20.\n",
      "  \"This module will be removed in 0.20.\", DeprecationWarning)\n"
     ]
    }
   ],
   "source": [
    "import os\n",
    "import time\n",
    "#Please fill in the input folder path and the output folder path\n",
    "input_path = '/Users/phupham/Desktop/UniSyd/Semester3/MachineLearning/Assignment2/covtype.csv'\n",
    "import pandas as pd\n",
    "import numpy as np\n",
    "import matplotlib.pylab as plt\n",
    "%matplotlib inline\n",
    "from sklearn.cross_validation import train_test_split\n",
    "from sklearn.model_selection import StratifiedKFold\n",
    "from sklearn.metrics import accuracy_score\n",
    "from sklearn.decomposition import PCA\n",
    "from sklearn.feature_selection import VarianceThreshold\n",
    "from sklearn import metrics\n",
    "import itertools\n",
    "from sklearn.preprocessing import StandardScaler\n",
    "from sklearn.neighbors import KNeighborsClassifier\n",
    "from sklearn.cross_validation import cross_val_score\n",
    "from sklearn.multiclass import OneVsRestClassifier\n",
    "from sklearn.metrics import roc_curve, auc\n",
    "from sklearn.preprocessing import label_binarize\n"
   ]
  },
  {
   "cell_type": "markdown",
   "metadata": {},
   "source": [
    "#2. Read the value into attr_value for X and cat for Y and preliminary visualization of the data\n"
   ]
  },
  {
   "cell_type": "code",
   "execution_count": 2,
   "metadata": {
    "collapsed": false
   },
   "outputs": [
    {
     "data": {
      "text/plain": [
       "(581012, 55)"
      ]
     },
     "execution_count": 2,
     "metadata": {},
     "output_type": "execute_result"
    }
   ],
   "source": [
    "df = pd.read_csv(input_path,header = None )\n",
    "df.shape\n",
    "attr_value = df.iloc[:,0:53].values\n",
    "cat = df[54].values"
   ]
  },
  {
   "cell_type": "markdown",
   "metadata": {},
   "source": [
    "#3. Split the data 80% for training and 20% for testing and Preprocessing"
   ]
  },
  {
   "cell_type": "code",
   "execution_count": 4,
   "metadata": {
    "collapsed": false
   },
   "outputs": [],
   "source": [
    "Trainset,Testset,Trainset_cat, Testset_cat = train_test_split(attr_value, cat,test_size=0.2, random_state=0)"
   ]
  },
  {
   "cell_type": "code",
   "execution_count": 5,
   "metadata": {
    "collapsed": true
   },
   "outputs": [],
   "source": [
    "# Small data set for preprocessing test\n",
    "X_train, X_test, y_train, y_test = train_test_split(Trainset, Trainset_cat, test_size=0.5, random_state=0)"
   ]
  },
  {
   "cell_type": "markdown",
   "metadata": {},
   "source": [
    "#3A. Preprocessing with PCA. Below is for testing of the preprocesing"
   ]
  },
  {
   "cell_type": "code",
   "execution_count": 7,
   "metadata": {
    "collapsed": false
   },
   "outputs": [
    {
     "name": "stdout",
     "output_type": "stream",
     "text": [
      "Processing time is 3.619994878768921 seconds\n",
      "Accuracy is 0.94701 \n"
     ]
    }
   ],
   "source": [
    "'''\n",
    "#Apply PCA to decrease the dimension of the dataset\n",
    "pca = PCA(n_components=5)\n",
    "newtraining = pca.fit_transform(X_train)\n",
    "newtest = pca.transform(X_test)\n",
    "start_time = time.time()\n",
    "neigh = KNeighborsClassifier(n_neighbors =1,algorithm='kd_tree')\n",
    "neigh.fit(newtraining,y_train)\n",
    "pred = neigh.predict(newtest)\n",
    "print(\"Processing time is %s seconds\" % (time.time() - start_time))\n",
    "a = accuracy_score(y_test, pred)\n",
    "print(\"Accuracy is %0.5f \"%a)\n",
    "'''\n"
   ]
  },
  {
   "cell_type": "markdown",
   "metadata": {},
   "source": [
    "#3B. Preprocessing with Variance Feature Selection"
   ]
  },
  {
   "cell_type": "code",
   "execution_count": 13,
   "metadata": {
    "collapsed": false
   },
   "outputs": [
    {
     "name": "stdout",
     "output_type": "stream",
     "text": [
      "Processing time is 6.361757040023804 seconds\n",
      "Accuracy is 0.95658 \n"
     ]
    }
   ],
   "source": [
    "'''\n",
    "#Apply Variance Feature Selection\n",
    "selector = VarianceThreshold(threshold = 0.1)\n",
    "newtraining = selector.fit_transform(X_train)\n",
    "newtest = selector.fit_transform(X_test)\n",
    "start_time = time.time()\n",
    "neigh = KNeighborsClassifier(n_neighbors =1,algorithm='kd_tree')\n",
    "neigh.fit(newtraining,y_train)\n",
    "pred = neigh.predict(newtest)\n",
    "print(\"Processing time is %s seconds\" % (time.time() - start_time))\n",
    "a = accuracy_score(y_test, pred)\n",
    "print(\"Accuracy is %0.5f \"%a)\n",
    "'''"
   ]
  },
  {
   "cell_type": "markdown",
   "metadata": {},
   "source": [
    "APPLY VARIANCE FEATURE SELECTION AS CONSISTENT WITH OTHER METHODS"
   ]
  },
  {
   "cell_type": "markdown",
   "metadata": {},
   "source": [
    "#4. 10fold-Cross-validation and apply KNN"
   ]
  },
  {
   "cell_type": "code",
   "execution_count": 20,
   "metadata": {
    "collapsed": true
   },
   "outputs": [],
   "source": [
    "selector = VarianceThreshold(threshold = 0.1)\n",
    "newtraining = selector.fit_transform(Trainset)\n",
    "newtest = selector.fit_transform(Testset)"
   ]
  },
  {
   "cell_type": "code",
   "execution_count": 13,
   "metadata": {
    "collapsed": false
   },
   "outputs": [],
   "source": [
    "'''\n",
    "#This may take a few minutes to run\n",
    "# Test the appropriate number of k\n",
    "cv_acc =[]\n",
    "\n",
    "k_group = [1,3,5,13,15,21]\n",
    "for k in k_group:\n",
    "    neigh = KNeighborsClassifier(n_neighbors=k,algorithm='kd_tree' )\n",
    "    start_time = time.time()\n",
    "    score = cross_val_score(neigh,newtraining,Trainset_cat, cv=3, scoring='accuracy')\n",
    "    cv_acc.append(score.mean())\n",
    "print(cv_acc)\n",
    "'''"
   ]
  },
  {
   "cell_type": "code",
   "execution_count": 21,
   "metadata": {
    "collapsed": false
   },
   "outputs": [
    {
     "name": "stdout",
     "output_type": "stream",
     "text": [
      "Processing time is 3.100414991378784 seconds\n",
      "Accuracy for 0 fold is 0.96799 \n",
      "Processing time is 2.786444902420044 seconds\n",
      "Accuracy for 1 fold is 0.96648 \n",
      "Processing time is 2.910871744155884 seconds\n",
      "Accuracy for 2 fold is 0.96743 \n",
      "Processing time is 2.9090850353240967 seconds\n",
      "Accuracy for 3 fold is 0.96812 \n",
      "Processing time is 3.82912278175354 seconds\n",
      "Accuracy for 4 fold is 0.96685 \n",
      "Processing time is 3.389090061187744 seconds\n",
      "Accuracy for 5 fold is 0.96781 \n",
      "Processing time is 3.58927583694458 seconds\n",
      "Accuracy for 6 fold is 0.96818 \n",
      "Processing time is 3.0815889835357666 seconds\n",
      "Accuracy for 7 fold is 0.96725 \n",
      "Processing time is 3.61145281791687 seconds\n",
      "Accuracy for 8 fold is 0.96603 \n",
      "Processing time is 3.541551113128662 seconds\n",
      "Accuracy for 9 fold is 0.96684 \n"
     ]
    }
   ],
   "source": [
    "skf = StratifiedKFold(n_splits=10)\n",
    "skf.get_n_splits(Trainset,Trainset_cat)\n",
    "print(skf)\n",
    "\n",
    "n=0\n",
    "acc=[]\n",
    "process=[]\n",
    "\n",
    "for train_index,test_index in skf.split(newtraining,Trainset_cat):\n",
    "    X_train, X_test = newtraining[train_index], newtraining[test_index]\n",
    "    y_train, y_test = Trainset_cat[train_index], Trainset_cat[test_index]\n",
    "    start_time = time.time()\n",
    "    neigh = KNeighborsClassifier(n_neighbors =3,algorithm='kd_tree')\n",
    "    neigh.fit(X_train,y_train)\n",
    "    pred = neigh.predict(X_test)\n",
    "    t = time.time() - start_time\n",
    "    print(\"Processing time is %s seconds\" % t)\n",
    "    a = accuracy_score(y_test, pred)\n",
    "    print(\"Accuracy for %d fold is %0.5f \"%(n, a))\n",
    "    n= n+1\n",
    "    acc.append(a)\n",
    "    process.append(t)\n",
    "    "
   ]
  },
  {
   "cell_type": "code",
   "execution_count": 23,
   "metadata": {
    "collapsed": false
   },
   "outputs": [
    {
     "data": {
      "text/plain": [
       "<matplotlib.legend.Legend at 0x10f2e2898>"
      ]
     },
     "execution_count": 23,
     "metadata": {},
     "output_type": "execute_result"
    },
    {
     "data": {
      "image/png": "[encoded data removed]",
      "text/plain": [
       "<matplotlib.figure.Figure at 0x1104d4ac8>"
      ]
     },
     "metadata": {},
     "output_type": "display_data"
    }
   ],
   "source": [
    "'''\n",
    "fig1 =plt.figure()\n",
    "ax1 = fig1.add_subplot(111)\n",
    "\n",
    "line1 = ax1.plot(acc, 'r',label = \"accuracy_rate\",linewidth = 2,  )\n",
    "ax1.set_ylabel(\"Accuracy rate\")\n",
    "\n",
    "ax2 =fig1.add_subplot(111, sharex=ax1, frameon=False)\n",
    "line2 = ax2.plot(process, 'c--', label = \"processing_time\", linewidth = 2, linestyle = '--' )\n",
    "ax2.yaxis.tick_right()\n",
    "ax2.yaxis.set_label_position(\"right\")\n",
    "ax2.set_ylabel(\"Processing time\")\n",
    "ax1.set_xlabel(\"Cross validation time nth\")\n",
    "#legend((line1, line2), (\"accuracy_rate\", \"processing_time\"))\n",
    "#show()\n",
    "\n",
    "ax1.legend(loc=0)\n",
    "'''"
   ]
  },
  {
   "cell_type": "markdown",
   "metadata": {
    "collapsed": true
   },
   "source": [
    "#5. Apply the model to the Testset"
   ]
  },
  {
   "cell_type": "code",
   "execution_count": 24,
   "metadata": {
    "collapsed": false
   },
   "outputs": [
    {
     "name": "stdout",
     "output_type": "stream",
     "text": [
      "0.968959493301\n"
     ]
    }
   ],
   "source": [
    "neigh = KNeighborsClassifier(n_neighbors =3,algorithm='kd_tree')\n",
    "neigh.fit(newtraining, Trainset_cat)\n",
    "pred = neigh.predict(newtest)\n",
    "a = accuracy_score(Testset_cat, pred)\n",
    "print(a)\n"
   ]
  },
  {
   "cell_type": "code",
   "execution_count": 25,
   "metadata": {
    "collapsed": false
   },
   "outputs": [
    {
     "name": "stdout",
     "output_type": "stream",
     "text": [
      "             precision    recall  f1-score   support\n",
      "\n",
      "          1       0.97      0.97      0.97     42212\n",
      "          2       0.97      0.98      0.97     56849\n",
      "          3       0.96      0.97      0.96      7094\n",
      "          4       0.91      0.79      0.85       569\n",
      "          5       0.91      0.89      0.90      1886\n",
      "          6       0.94      0.94      0.94      3502\n",
      "          7       0.97      0.97      0.97      4091\n",
      "\n",
      "avg / total       0.97      0.97      0.97    116203\n",
      "\n"
     ]
    }
   ],
   "source": [
    "report = metrics.classification_report(Testset_cat,pred)\n",
    "print(report)"
   ]
  },
  {
   "cell_type": "code",
   "execution_count": 26,
   "metadata": {
    "collapsed": false
   },
   "outputs": [
    {
     "data": {
      "text/html": [
       "<div>\n",
       "<table border=\"1\" class=\"dataframe\">\n",
       "  <thead>\n",
       "    <tr style=\"text-align: right;\">\n",
       "      <th>Predicted</th>\n",
       "      <th>1</th>\n",
       "      <th>2</th>\n",
       "      <th>3</th>\n",
       "      <th>4</th>\n",
       "      <th>5</th>\n",
       "      <th>6</th>\n",
       "      <th>7</th>\n",
       "      <th>All</th>\n",
       "    </tr>\n",
       "    <tr>\n",
       "      <th>True</th>\n",
       "      <th></th>\n",
       "      <th></th>\n",
       "      <th></th>\n",
       "      <th></th>\n",
       "      <th></th>\n",
       "      <th></th>\n",
       "      <th></th>\n",
       "      <th></th>\n",
       "    </tr>\n",
       "  </thead>\n",
       "  <tbody>\n",
       "    <tr>\n",
       "      <th>1</th>\n",
       "      <td>40931</td>\n",
       "      <td>1171</td>\n",
       "      <td>0</td>\n",
       "      <td>0</td>\n",
       "      <td>12</td>\n",
       "      <td>3</td>\n",
       "      <td>95</td>\n",
       "      <td>42212</td>\n",
       "    </tr>\n",
       "    <tr>\n",
       "      <th>2</th>\n",
       "      <td>1129</td>\n",
       "      <td>55428</td>\n",
       "      <td>77</td>\n",
       "      <td>0</td>\n",
       "      <td>138</td>\n",
       "      <td>60</td>\n",
       "      <td>17</td>\n",
       "      <td>56849</td>\n",
       "    </tr>\n",
       "    <tr>\n",
       "      <th>3</th>\n",
       "      <td>1</td>\n",
       "      <td>108</td>\n",
       "      <td>6848</td>\n",
       "      <td>29</td>\n",
       "      <td>10</td>\n",
       "      <td>98</td>\n",
       "      <td>0</td>\n",
       "      <td>7094</td>\n",
       "    </tr>\n",
       "    <tr>\n",
       "      <th>4</th>\n",
       "      <td>0</td>\n",
       "      <td>1</td>\n",
       "      <td>87</td>\n",
       "      <td>452</td>\n",
       "      <td>0</td>\n",
       "      <td>29</td>\n",
       "      <td>0</td>\n",
       "      <td>569</td>\n",
       "    </tr>\n",
       "    <tr>\n",
       "      <th>5</th>\n",
       "      <td>24</td>\n",
       "      <td>175</td>\n",
       "      <td>10</td>\n",
       "      <td>0</td>\n",
       "      <td>1672</td>\n",
       "      <td>5</td>\n",
       "      <td>0</td>\n",
       "      <td>1886</td>\n",
       "    </tr>\n",
       "    <tr>\n",
       "      <th>6</th>\n",
       "      <td>5</td>\n",
       "      <td>73</td>\n",
       "      <td>109</td>\n",
       "      <td>18</td>\n",
       "      <td>5</td>\n",
       "      <td>3292</td>\n",
       "      <td>0</td>\n",
       "      <td>3502</td>\n",
       "    </tr>\n",
       "    <tr>\n",
       "      <th>7</th>\n",
       "      <td>99</td>\n",
       "      <td>19</td>\n",
       "      <td>0</td>\n",
       "      <td>0</td>\n",
       "      <td>0</td>\n",
       "      <td>0</td>\n",
       "      <td>3973</td>\n",
       "      <td>4091</td>\n",
       "    </tr>\n",
       "    <tr>\n",
       "      <th>All</th>\n",
       "      <td>42189</td>\n",
       "      <td>56975</td>\n",
       "      <td>7131</td>\n",
       "      <td>499</td>\n",
       "      <td>1837</td>\n",
       "      <td>3487</td>\n",
       "      <td>4085</td>\n",
       "      <td>116203</td>\n",
       "    </tr>\n",
       "  </tbody>\n",
       "</table>\n",
       "</div>"
      ],
      "text/plain": [
       "Predicted      1      2     3    4     5     6     7     All\n",
       "True                                                        \n",
       "1          40931   1171     0    0    12     3    95   42212\n",
       "2           1129  55428    77    0   138    60    17   56849\n",
       "3              1    108  6848   29    10    98     0    7094\n",
       "4              0      1    87  452     0    29     0     569\n",
       "5             24    175    10    0  1672     5     0    1886\n",
       "6              5     73   109   18     5  3292     0    3502\n",
       "7             99     19     0    0     0     0  3973    4091\n",
       "All        42189  56975  7131  499  1837  3487  4085  116203"
      ]
     },
     "execution_count": 26,
     "metadata": {},
     "output_type": "execute_result"
    }
   ],
   "source": [
    "#Table of the confusion matrix\n",
    "y_true = pd.Series(Testset_cat)\n",
    "y_pred = pd.Series(pred)\n",
    "\n",
    "pd.crosstab(y_true, y_pred, rownames=['True'], colnames=['Predicted'], margins=True)"
   ]
  },
  {
   "cell_type": "code",
   "execution_count": 38,
   "metadata": {
    "collapsed": false
   },
   "outputs": [
    {
     "data": {
      "image/png": "[encoded data removed]",
      "text/plain": [
       "<matplotlib.figure.Figure at 0x11024b908>"
      ]
     },
     "metadata": {},
     "output_type": "display_data"
    }
   ],
   "source": [
    "'''\n",
    "confusion = metrics.confusion_matrix(Testset_cat,pred)\n",
    "target_name = ['1','2','3','4','5','6','7']\n",
    "def plot_cmatrix(cm,classes,title= 'Confusion matrix for Covtype',cmap=plt.cm.Blues):\n",
    "    plt.imshow(cm, interpolation='nearest', cmap=cmap)\n",
    "    plt.title(title)\n",
    "    plt.colorbar()\n",
    "    tick_marks = np.arange(len(classes))\n",
    "    plt.xticks(tick_marks, classes, rotation=45)\n",
    "    plt.yticks(tick_marks, classes)\n",
    "    \n",
    "    thresh = cm.max() / 2\n",
    "    for i, j in itertools.product(range(cm.shape[0]), range(cm.shape[1])):\n",
    "        plt.text(j, i, cm[i, j],\n",
    "                 horizontalalignment=\"center\",\n",
    "                 color=\"white\" if cm[i, j] > thresh else \"black\")\n",
    "\n",
    "    plt.tight_layout()\n",
    "    plt.ylabel('True label')\n",
    "    plt.xlabel('Predicted label')\n",
    "    \n",
    "np.set_printoptions(precision=2)\n",
    "plt.figure(figsize=(10, 5))\n",
    "plot_cmatrix(confusion, classes=target_name,title='Confusion matrix KNN')\n",
    "plt.show()\n",
    "'''   "
   ]
  },
  {
   "cell_type": "code",
   "execution_count": 31,
   "metadata": {
    "collapsed": true
   },
   "outputs": [],
   "source": [
    "#This may take a minute to run\n",
    "classifier = OneVsRestClassifier(neigh)\n",
    "predicted_prob = classifier.fit(newtraining, Trainset_cat).predict_proba(newtest)"
   ]
  },
  {
   "cell_type": "code",
   "execution_count": 37,
   "metadata": {
    "collapsed": false
   },
   "outputs": [
    {
     "data": {
      "image/png": "[encoded data removed]",
      "text/plain": [
       "<matplotlib.figure.Figure at 0x110235518>"
      ]
     },
     "metadata": {},
     "output_type": "display_data"
    }
   ],
   "source": [
    "accurate_y = label_binarize(Testset_cat, classes=[1,2,3,4,5,6,7])\n",
    "n_classes = accurate_y.shape[1]\n",
    "# Compute ROC curve and ROC area for each class\n",
    "fpr = dict()\n",
    "tpr = dict()\n",
    "roc_auc = dict()\n",
    "for i in range (n_classes):\n",
    "    fpr[i], tpr[i], _ = roc_curve(accurate_y[:,i], predicted_prob[:, i])\n",
    "    roc_auc[i] = auc(fpr[i], tpr[i])\n",
    "\n",
    "lw=1\n",
    "for i in range(n_classes):\n",
    "    plt.plot(fpr[i], tpr[i], lw=lw,\n",
    "             label='ROC curve of class {0} (area = {1:0.2f})'\n",
    "             ''.format(i+1, roc_auc[i]))\n",
    "\n",
    "plt.plot([0, 1], [0, 1], 'k--', lw=lw)\n",
    "plt.xlim([0.0, 1.0])\n",
    "plt.ylim([0.0, 1.05])\n",
    "plt.xlabel('False Positive Rate')\n",
    "plt.ylabel('True Positive Rate')\n",
    "plt.title('ROC Curve for KNN')\n",
    "plt.legend(loc=\"lower right\")\n",
    "plt.show()\n",
    "\n"
   ]
  }
 ],
 "metadata": {
  "anaconda-cloud": {},
  "kernelspec": {
   "display_name": "Python 3",
   "language": "python",
   "name": "python3"
  },
  "language_info": {
   "codemirror_mode": {
    "name": "ipython",
    "version": 3
   },
   "file_extension": ".py",
   "mimetype": "text/x-python",
   "name": "python",
   "nbconvert_exporter": "python",
   "pygments_lexer": "ipython3",
   "version": "3.6.0"
  }
 },
 "nbformat": 4,
 "nbformat_minor": 1
}
